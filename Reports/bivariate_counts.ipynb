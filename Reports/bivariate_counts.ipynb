{
 "cells": [
  {
   "cell_type": "code",
   "execution_count": 1,
   "id": "6a7c1ed9",
   "metadata": {},
   "outputs": [
    {
     "ename": "ERROR",
     "evalue": "Error in summary(stable): object 'stable' not found\n",
     "output_type": "error",
     "traceback": [
      "Error in summary(stable): object 'stable' not found\nTraceback:\n",
      "1. summary(stable)"
     ]
    }
   ],
   "source": [
    "summary(stable)"
   ]
  },
  {
   "cell_type": "code",
   "execution_count": null,
   "id": "6a0961d3",
   "metadata": {
    "scrolled": false
   },
   "outputs": [],
   "source": [
    "equilibrium <- read.csv('~/ResearchProjects/JAPE/ConcurrentData/matching_by_session.csv')\n",
    "stable <- subset(equilibrium,!dynamic_env)\n",
    "\n",
    "palette <- c(\"#72e5ef\",\"#f79302\",\"#fd2c3b\",\n",
    "             \"#b8e450\",\"#4cf185\",\"#9525ba\")\n",
    "colors <- NULL\n",
    "cntr <- 0\n",
    "for(bb in unique(stable$bird)){\n",
    "    cntr <- cntr+1\n",
    "    colors[which(stable$bird==bb)] <- paste(palette[cntr],'66',sep='')\n",
    "}\n",
    "stable$colors <- colors\n",
    "\n",
    "options(repr.plot.width=15,repr.plot.height=10)\n",
    "layout(matrix(1:6,ncol=3))\n",
    "par(mar=c(7,7,2,2),oma=c(2,2,4,0),cex.axis=1.2)\n",
    "for(bb in unique(stable$bird)){\n",
    "    bb_stable <- subset(stable,bird==bb)\n",
    "    plot(NULL,xlim=c(0,100),ylim=c(0,2000),axes=F,ann=F)\n",
    "    axis(1);axis(2)\n",
    "    points(bb_stable$n_reinf_right,\n",
    "           bb_stable$n_resp_right,\n",
    "           pch=21,bg=bb_stable$colors,cex=3.5)\n",
    "    \n",
    "    plot(NULL,xlim=c(0,100),ylim=c(0,2000),axes=F,ann=F)\n",
    "    axis(1);axis(2)\n",
    "    points(bb_stable$n_reinf_left,\n",
    "           bb_stable$n_resp_left,\n",
    "           pch=25,bg=bb_stable$colors,cex=3.5)\n",
    "    mtext(bb,3,cex=1.5)\n",
    "}\n",
    "mtext('recompensas en derecha respecto de izquierda',1,line=0,cex=1.75,outer=T)\n",
    "mtext('elecciones en derecha respecto de izquierda',2,line=0,cex=1.75,outer=T)\n",
    "mtext('sesiones estables',3,line=2,cex=2,outer=T)"
   ]
  },
  {
   "cell_type": "code",
   "execution_count": null,
   "id": "75c657d3",
   "metadata": {},
   "outputs": [],
   "source": [
    "x <- bb_stable$n_reinf_right\n",
    "y <- bb_stable$n_resp_right\n",
    "\n",
    "x <- stable$n_reinf_right\n",
    "y <- stable$n_resp_right\n",
    "\n",
    "\n",
    "x <- stable$n_reinf_left\n",
    "y <- stable$n_resp_left\n"
   ]
  },
  {
   "cell_type": "code",
   "execution_count": null,
   "id": "ae419674",
   "metadata": {},
   "outputs": [],
   "source": [
    "plot(x,y)"
   ]
  },
  {
   "cell_type": "code",
   "execution_count": null,
   "id": "ee24757b",
   "metadata": {},
   "outputs": [],
   "source": [
    "bivariate_plot <- function(x,y,x_bins=20,y_bins=20){\n",
    "\n",
    "#     x_bins <- 50\n",
    "#     y_bins <- 50\n",
    "    x_brks <- seq(min(x,na.rm=T)-.5,max(x,na.rm=T)+.5,length.out=x_bins)\n",
    "    y_brks <- seq(min(y,na.rm=T)-.5,max(y,na.rm=T)+.5,length.out=y_bins)\n",
    "    x_mids <- x_brks+(1/2)*(x_brks[2]-x_brks[1])\n",
    "    y_mids <- y_brks+(1/2)*(y_brks[2]-y_brks[1])\n",
    "    count_matrix <- array(dim=c(length(x_mids),length(y_mids)))\n",
    "    for(i in 1:length(x_mids)){\n",
    "        for(j in 1:length(y_mids)){\n",
    "            count_matrix[i,j] <- sum(x>=x_brks[i]&x<x_brks[i+1]&y>=y_brks[j]&y<y_brks[j+1])\n",
    "            }\n",
    "    }\n",
    "\n",
    "\n",
    "    x_range <- max(x_brks)-min(x_brks)\n",
    "    y_range <- max(y_brks)-min(y_brks)\n",
    "    plot(NULL,\n",
    "         xlim=c(min(x_brks),max(x_brks)+x_range*.5),\n",
    "         ylim=c(min(y_brks),max(y_brks)+y_range*.5))\n",
    "    x_margin <- apply(count_matrix,FUN=sum,MAR=1)\n",
    "    y_margin <- apply(count_matrix,FUN=sum,MAR=2)\n",
    "    lines(x_mids,max(y_brks)+x_margin*15,col='blue',lwd=2)\n",
    "    lines(y_margin+max(x_brks),y_mids,col='orange',lwd=2)\n",
    "    for(i in 1:length(x_mids)){\n",
    "        for(j in 1:length(y_mids)){\n",
    "            points(x_mids[i],y_mids[j],cex=count_matrix[i,j]*.3,pch=22)\n",
    "        }\n",
    "    }\n",
    "\n",
    "}"
   ]
  },
  {
   "cell_type": "code",
   "execution_count": null,
   "id": "99020b2d",
   "metadata": {},
   "outputs": [],
   "source": [
    "pdf('bivariate_counts.pdf',width=6,height=18)\n",
    "layout(matrix(1:12,ncol=2,byrow=T))\n",
    "par(mar=rep(3,4))\n",
    "# bivariate_plot(stable$n_reinf_right,\n",
    "#                stable$n_resp_right)\n",
    "\n",
    "# bivariate_plot(stable$n_reinf_left,\n",
    "#                stable$n_resp_left)\n",
    "\n",
    "for(bb in unique(stable$bird)){\n",
    "    bb_dta <- subset(stable,bird==bb)\n",
    "    \n",
    "    bivariate_plot(bb_dta$n_reinf_right,\n",
    "                   bb_dta$n_resp_right)\n",
    "    mtext(bb,3)\n",
    "    bivariate_plot(bb_dta$n_reinf_left,\n",
    "                   bb_dta$n_resp_left)\n",
    "    mtext(bb,3)\n",
    "\n",
    "}\n",
    "dev.off()"
   ]
  }
 ],
 "metadata": {
  "kernelspec": {
   "display_name": "R",
   "language": "R",
   "name": "r"
  },
  "language_info": {
   "codemirror_mode": "r",
   "file_extension": ".r",
   "mimetype": "text/x-r-source",
   "name": "R",
   "pygments_lexer": "r",
   "version": "4.2.1"
  }
 },
 "nbformat": 4,
 "nbformat_minor": 5
}
