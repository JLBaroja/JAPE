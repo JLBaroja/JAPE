{
 "cells": [
  {
   "cell_type": "code",
   "execution_count": 3,
   "id": "1caccb7b",
   "metadata": {},
   "outputs": [],
   "source": [
    "equilibrium <- read.csv('~/ResearchProjects/JAPE/ConcurrentData/matching_by_session.csv')\n",
    "stable <- subset(equilibrium,!dynamic_env)"
   ]
  },
  {
   "cell_type": "code",
   "execution_count": 4,
   "id": "dc66e402",
   "metadata": {},
   "outputs": [
    {
     "data": {
      "text/html": [
       "<table class=\"dataframe\">\n",
       "<caption>A data.frame: 3 × 7</caption>\n",
       "<thead>\n",
       "\t<tr><th></th><th scope=col>session</th><th scope=col>bird</th><th scope=col>n_resp_left</th><th scope=col>n_resp_right</th><th scope=col>n_reinf_left</th><th scope=col>n_reinf_right</th><th scope=col>dynamic_env</th></tr>\n",
       "\t<tr><th></th><th scope=col>&lt;chr&gt;</th><th scope=col>&lt;chr&gt;</th><th scope=col>&lt;int&gt;</th><th scope=col>&lt;int&gt;</th><th scope=col>&lt;int&gt;</th><th scope=col>&lt;int&gt;</th><th scope=col>&lt;lgl&gt;</th></tr>\n",
       "</thead>\n",
       "<tbody>\n",
       "\t<tr><th scope=row>181</th><td>s01</td><td>p054</td><td>236</td><td>277</td><td>33</td><td>17</td><td>FALSE</td></tr>\n",
       "\t<tr><th scope=row>182</th><td>s02</td><td>p054</td><td>511</td><td>329</td><td>51</td><td>19</td><td>FALSE</td></tr>\n",
       "\t<tr><th scope=row>183</th><td>s03</td><td>p054</td><td>271</td><td>247</td><td>26</td><td>14</td><td>FALSE</td></tr>\n",
       "</tbody>\n",
       "</table>\n"
      ],
      "text/latex": [
       "A data.frame: 3 × 7\n",
       "\\begin{tabular}{r|lllllll}\n",
       "  & session & bird & n\\_resp\\_left & n\\_resp\\_right & n\\_reinf\\_left & n\\_reinf\\_right & dynamic\\_env\\\\\n",
       "  & <chr> & <chr> & <int> & <int> & <int> & <int> & <lgl>\\\\\n",
       "\\hline\n",
       "\t181 & s01 & p054 & 236 & 277 & 33 & 17 & FALSE\\\\\n",
       "\t182 & s02 & p054 & 511 & 329 & 51 & 19 & FALSE\\\\\n",
       "\t183 & s03 & p054 & 271 & 247 & 26 & 14 & FALSE\\\\\n",
       "\\end{tabular}\n"
      ],
      "text/markdown": [
       "\n",
       "A data.frame: 3 × 7\n",
       "\n",
       "| <!--/--> | session &lt;chr&gt; | bird &lt;chr&gt; | n_resp_left &lt;int&gt; | n_resp_right &lt;int&gt; | n_reinf_left &lt;int&gt; | n_reinf_right &lt;int&gt; | dynamic_env &lt;lgl&gt; |\n",
       "|---|---|---|---|---|---|---|---|\n",
       "| 181 | s01 | p054 | 236 | 277 | 33 | 17 | FALSE |\n",
       "| 182 | s02 | p054 | 511 | 329 | 51 | 19 | FALSE |\n",
       "| 183 | s03 | p054 | 271 | 247 | 26 | 14 | FALSE |\n",
       "\n"
      ],
      "text/plain": [
       "    session bird n_resp_left n_resp_right n_reinf_left n_reinf_right\n",
       "181 s01     p054 236         277          33           17           \n",
       "182 s02     p054 511         329          51           19           \n",
       "183 s03     p054 271         247          26           14           \n",
       "    dynamic_env\n",
       "181 FALSE      \n",
       "182 FALSE      \n",
       "183 FALSE      "
      ]
     },
     "metadata": {},
     "output_type": "display_data"
    }
   ],
   "source": [
    "bb <- unique(stable$bird)[2]\n",
    "bb_stable <- subset(stable,bird==bb)\n",
    "head(bb_stable,3)"
   ]
  },
  {
   "cell_type": "code",
   "execution_count": 5,
   "id": "60d44b89",
   "metadata": {},
   "outputs": [
    {
     "name": "stderr",
     "output_type": "stream",
     "text": [
      "Loading required package: rjags\n",
      "\n",
      "Loading required package: coda\n",
      "\n",
      "Linked to JAGS 4.3.1\n",
      "\n",
      "Loaded modules: basemod,bugs\n",
      "\n",
      "\n",
      "Attaching package: ‘R2jags’\n",
      "\n",
      "\n",
      "The following object is masked from ‘package:coda’:\n",
      "\n",
      "    traceplot\n",
      "\n",
      "\n"
     ]
    }
   ],
   "source": [
    "library('R2jags')"
   ]
  },
  {
   "cell_type": "code",
   "execution_count": 6,
   "id": "57fe590b",
   "metadata": {},
   "outputs": [
    {
     "name": "stderr",
     "output_type": "stream",
     "text": [
      "module glm loaded\n",
      "\n",
      "Warning message in jags.model(model.file, data = data, inits = init.values, n.chains = n.chains, :\n",
      "“Unused variable \"log_Beh\" in data”\n",
      "Warning message in jags.model(model.file, data = data, inits = init.values, n.chains = n.chains, :\n",
      "“Unused variable \"log_Rew\" in data”\n"
     ]
    },
    {
     "name": "stdout",
     "output_type": "stream",
     "text": [
      "Compiling model graph\n",
      "   Resolving undeclared variables\n",
      "   Allocating nodes\n",
      "Graph information:\n",
      "   Observed stochastic nodes: 290\n",
      "   Unobserved stochastic nodes: 876\n",
      "   Total graph size: 3347\n",
      "\n",
      "Initializing model\n",
      "\n"
     ]
    },
    {
     "name": "stderr",
     "output_type": "stream",
     "text": [
      "Warning message in FUN(X[[i]], ...):\n",
      "“Failed to set trace monitor for log_B_prior\n",
      "Variable log_B_prior not found\n",
      "”\n",
      "Warning message in jags.model(model.file, data = data, inits = init.values, n.chains = n.chains, :\n",
      "“Unused variable \"B_r\" in data”\n",
      "Warning message in jags.model(model.file, data = data, inits = init.values, n.chains = n.chains, :\n",
      "“Unused variable \"B_l\" in data”\n",
      "Warning message in jags.model(model.file, data = data, inits = init.values, n.chains = n.chains, :\n",
      "“Unused variable \"W_r\" in data”\n",
      "Warning message in jags.model(model.file, data = data, inits = init.values, n.chains = n.chains, :\n",
      "“Unused variable \"W_l\" in data”\n"
     ]
    },
    {
     "name": "stdout",
     "output_type": "stream",
     "text": [
      "Compiling model graph\n",
      "   Resolving undeclared variables\n",
      "   Allocating nodes\n",
      "Graph information:\n",
      "   Observed stochastic nodes: 145\n",
      "   Unobserved stochastic nodes: 296\n",
      "   Total graph size: 1109\n",
      "\n",
      "Initializing model\n",
      "\n"
     ]
    },
    {
     "name": "stderr",
     "output_type": "stream",
     "text": [
      "Warning message in FUN(X[[i]], ...):\n",
      "“Failed to set trace monitor for lambda_r_prior\n",
      "Variable lambda_r_prior not found\n",
      "”\n",
      "Warning message in FUN(X[[i]], ...):\n",
      "“Failed to set trace monitor for lambda_r_post\n",
      "Variable lambda_r_post not found\n",
      "”\n",
      "Warning message in FUN(X[[i]], ...):\n",
      "“Failed to set trace monitor for lambda_l_prior\n",
      "Variable lambda_l_prior not found\n",
      "”\n",
      "Warning message in FUN(X[[i]], ...):\n",
      "“Failed to set trace monitor for lambda_l_post\n",
      "Variable lambda_l_post not found\n",
      "”\n",
      "Warning message in FUN(X[[i]], ...):\n",
      "“Failed to set trace monitor for log_B\n",
      "Variable log_B not found\n",
      "”\n",
      "Warning message in FUN(X[[i]], ...):\n",
      "“Failed to set trace monitor for log_W\n",
      "Variable log_W not found\n",
      "”\n"
     ]
    }
   ],
   "source": [
    "B_r <- bb_stable$n_resp_right\n",
    "B_l <- bb_stable$n_resp_left\n",
    "W_r <- bb_stable$n_reinf_right\n",
    "W_l <- bb_stable$n_reinf_left\n",
    "n_obs <- length(B_r)\n",
    "\n",
    "log_Beh <- log(B_r/B_l)\n",
    "log_Rew <- log(W_r/W_l)\n",
    "\n",
    "observed <- list('B_r','B_l','W_r','W_l','n_obs',\n",
    "                'log_Beh','log_Rew')\n",
    "unobserved <- c('alpha_prior','alpha_post',\n",
    "               'beta_prior','beta_post',\n",
    "               'lambda_r_prior','lambda_r_post',\n",
    "               'lambda_l_prior','lambda_l_post',\n",
    "               'sigma_prior','sigma_post',\n",
    "               'log_B_post','log_B_prior',\n",
    "               'log_B','log_W')\n",
    "\n",
    "write('model{\n",
    "    alpha_prior~dnorm(0,.1)\n",
    "    beta_prior~dnorm(0,.1)\n",
    "    tau_prior~dgamma(0.01,0.01)T(0.01,)\n",
    "    alpha_post~dnorm(0,.1)\n",
    "    beta_post~dnorm(0,.1)\n",
    "    tau_post~dgamma(0.01,0.01)T(0.01,)\n",
    "    sigma_post <- 1/tau_post^(1/2)\n",
    "    sigma_prior <- 1/tau_prior^(1/2)\n",
    "\n",
    "    for(j in 1:100){\n",
    "        log_W[j] <- (j-50)/15\n",
    "        log_B[j] <- alpha_post+beta_post*log_W[j]\n",
    "    }\n",
    "\n",
    "\n",
    "    for(i in 1:n_obs){\n",
    "        lambda_r_prior[i]~dlnorm(alpha_prior/2+beta_prior*log(W_r[i])/2,tau_prior)\n",
    "        lambda_l_prior[i]~dlnorm(-alpha_prior/2-beta_prior*log(W_l[i])/2,tau_prior)\n",
    "\n",
    "#         lambda_r_post[i]~dlnorm(alpha_post/2+beta_post*log(W_r[i]),tau_post)\n",
    "#         lambda_l_post[i]~dlnorm(-alpha_post/2-beta_post*log(W_l[i]),tau_post)\n",
    "\n",
    "        lambda_r_post[i]~dlnorm(alpha_post/2+beta_post*log(W_r[i]/W_l[i])/2,tau_post)\n",
    "        lambda_l_post[i]~dlnorm(-alpha_post/2-beta_post*log(W_r[i]/W_l[i])/2,tau_post)\n",
    "\n",
    "        B_r[i]~dpois(lambda_r_post[i])\n",
    "        B_l[i]~dpois(lambda_l_post[i])\n",
    "\n",
    "        # POSTERIOR prediction\n",
    "        B_r_post[i]~dpois(lambda_r_post[i])\n",
    "        B_l_post[i]~dpois(lambda_l_post[i])\n",
    "        log_B_post[i] <- log(B_r_post[i]/B_l_post[i])\n",
    "        \n",
    "        \n",
    "        # PRIOR prediction\n",
    "#         B_r_prior[i]~dpois(lambda_r_prior[i])T(1,)\n",
    "#         B_l_prior[i]~dpois(lambda_l_prior[i])T(1,)\n",
    "#         log_B_prior[i] <- log(B_r_prior[i]/B_l_prior[i])\n",
    "    }\n",
    "}','generative_matching.bug')\n",
    "\n",
    "\n",
    "set.seed(1)\n",
    "\n",
    "bayes_gen <- jags(data = observed,\n",
    "             parameters.to.save = unobserved,\n",
    "             model.file = 'generative_matching.bug')\n",
    "unlink('generative_matching.bug')\n",
    "\n",
    "write('model{\n",
    "    alpha_prior~dnorm(0,.1)\n",
    "    beta_prior~dnorm(0,.1)\n",
    "    tau_prior~dgamma(0.01,0.01)T(0.01,)\n",
    "    alpha_post~dnorm(0,.1)\n",
    "    beta_post~dnorm(0,.1)\n",
    "    tau_post~dgamma(0.01,0.01)T(0.01,)\n",
    "    sigma_post <- 1/tau_post^(1/2)\n",
    "    sigma_prior <- 1/tau_prior^(1/2)\n",
    "\n",
    "    for(i in 1:n_obs){\n",
    "        log_Beh[i]~dnorm(alpha_post+beta_post*log_Rew[i],tau_post)\n",
    "        log_B_post[i]~dnorm(alpha_post+beta_post*log_Rew[i],tau_post)\n",
    "        log_B_prior[i]~dnorm(alpha_prior+beta_prior*log_Rew[i],tau_prior)\n",
    "    }\n",
    "}','non_generative_matching.bug')\n",
    "\n",
    "bayes_non_gen <- jags(data = observed,\n",
    "             parameters.to.save = unobserved,\n",
    "             model.file = 'non_generative_matching.bug')\n",
    "unlink('non_generative_matching.bug')"
   ]
  },
  {
   "cell_type": "code",
   "execution_count": 7,
   "id": "93826479",
   "metadata": {},
   "outputs": [
    {
     "data": {
      "text/plain": [
       "      Rhat           n.eff     \n",
       " Min.   :1.000   Min.   :   1  \n",
       " 1st Qu.:1.001   1st Qu.:1100  \n",
       " Median :1.001   Median :3000  \n",
       " Mean   :1.001   Mean   :2116  \n",
       " 3rd Qu.:1.002   3rd Qu.:3000  \n",
       " Max.   :1.010   Max.   :3000  "
      ]
     },
     "metadata": {},
     "output_type": "display_data"
    },
    {
     "data": {
      "text/plain": [
       "      Rhat           n.eff     \n",
       " Min.   :1.001   Min.   : 610  \n",
       " 1st Qu.:1.001   1st Qu.:2100  \n",
       " Median :1.001   Median :3000  \n",
       " Mean   :1.001   Mean   :2532  \n",
       " 3rd Qu.:1.001   3rd Qu.:3000  \n",
       " Max.   :1.033   Max.   :3000  "
      ]
     },
     "metadata": {},
     "output_type": "display_data"
    }
   ],
   "source": [
    "summary(bayes_gen$BUGSoutput$summary[,c('Rhat','n.eff')])\n",
    "summary(bayes_non_gen$BUGSoutput$summary[,c('Rhat','n.eff')])"
   ]
  },
  {
   "cell_type": "code",
   "execution_count": 8,
   "id": "b96490e8",
   "metadata": {},
   "outputs": [],
   "source": [
    "nds_gen <- bayes_gen$BUGSoutput$sims.list\n",
    "nds_non_gen <- bayes_non_gen$BUGSoutput$sims.list"
   ]
  },
  {
   "cell_type": "code",
   "execution_count": 9,
   "id": "db5cc534",
   "metadata": {},
   "outputs": [
    {
     "data": {
      "text/html": [
       "<style>\n",
       ".list-inline {list-style: none; margin:0; padding: 0}\n",
       ".list-inline>li {display: inline-block}\n",
       ".list-inline>li:not(:last-child)::after {content: \"\\00b7\"; padding: 0 .5ex}\n",
       "</style>\n",
       "<ol class=list-inline><li>'alpha_post'</li><li>'alpha_prior'</li><li>'beta_post'</li><li>'beta_prior'</li><li>'deviance'</li><li>'log_B_post'</li><li>'log_B_prior'</li><li>'sigma_post'</li><li>'sigma_prior'</li></ol>\n"
      ],
      "text/latex": [
       "\\begin{enumerate*}\n",
       "\\item 'alpha\\_post'\n",
       "\\item 'alpha\\_prior'\n",
       "\\item 'beta\\_post'\n",
       "\\item 'beta\\_prior'\n",
       "\\item 'deviance'\n",
       "\\item 'log\\_B\\_post'\n",
       "\\item 'log\\_B\\_prior'\n",
       "\\item 'sigma\\_post'\n",
       "\\item 'sigma\\_prior'\n",
       "\\end{enumerate*}\n"
      ],
      "text/markdown": [
       "1. 'alpha_post'\n",
       "2. 'alpha_prior'\n",
       "3. 'beta_post'\n",
       "4. 'beta_prior'\n",
       "5. 'deviance'\n",
       "6. 'log_B_post'\n",
       "7. 'log_B_prior'\n",
       "8. 'sigma_post'\n",
       "9. 'sigma_prior'\n",
       "\n",
       "\n"
      ],
      "text/plain": [
       "[1] \"alpha_post\"  \"alpha_prior\" \"beta_post\"   \"beta_prior\"  \"deviance\"   \n",
       "[6] \"log_B_post\"  \"log_B_prior\" \"sigma_post\"  \"sigma_prior\""
      ]
     },
     "metadata": {},
     "output_type": "display_data"
    }
   ],
   "source": [
    "names(nds_non_gen)"
   ]
  },
  {
   "cell_type": "code",
   "execution_count": 10,
   "id": "b525dcd0",
   "metadata": {},
   "outputs": [
    {
     "data": {
      "text/html": [
       "<style>\n",
       ".list-inline {list-style: none; margin:0; padding: 0}\n",
       ".list-inline>li {display: inline-block}\n",
       ".list-inline>li:not(:last-child)::after {content: \"\\00b7\"; padding: 0 .5ex}\n",
       "</style>\n",
       "<ol class=list-inline><li>3000</li><li>145</li></ol>\n"
      ],
      "text/latex": [
       "\\begin{enumerate*}\n",
       "\\item 3000\n",
       "\\item 145\n",
       "\\end{enumerate*}\n"
      ],
      "text/markdown": [
       "1. 3000\n",
       "2. 145\n",
       "\n",
       "\n"
      ],
      "text/plain": [
       "[1] 3000  145"
      ]
     },
     "metadata": {},
     "output_type": "display_data"
    }
   ],
   "source": [
    "dim(nds_non_gen$log_B_post)"
   ]
  },
  {
   "cell_type": "code",
   "execution_count": 92,
   "id": "0b0c8e9a",
   "metadata": {},
   "outputs": [
    {
     "data": {
      "image/png": "[encoded data removed]",
      "text/plain": [
       "plot without title"
      ]
     },
     "metadata": {
      "image/png": {
       "height": 480,
       "width": 960
      }
     },
     "output_type": "display_data"
    }
   ],
   "source": [
    "post_predictive <- function(nds,\n",
    "                            prediction='posterior',\n",
    "                            title=NULL){\n",
    "    # nds <- nds_gen\n",
    "#     if(prediction=='posterior'){\n",
    "        pred_node <- nds$log_B_post\n",
    "    \n",
    "#         pred_node <- nds$log_B_prior\n",
    "#     }\n",
    "    plot(NULL,xlim=c(-3,3),ylim=c(-8,8),axes=F,ann=F)\n",
    "    axis(1);axis(2)\n",
    "    mtext(title,3,cex=3,line=2)\n",
    "    mtext(expression(paste(log,'(',W[right],'/',W[left],')')),1,cex=2,line=3.5)\n",
    "    mtext(expression(paste(log,'(',B[right],'/',B[left],')')),2,cex=2,line=2.5)\n",
    "    abline(0,1,lty='dashed')\n",
    "    abline(v=0,lty='dashed')\n",
    "    abline(h=0,lty='dashed')\n",
    "\n",
    "    # LINES\n",
    "#     smpl <- sample(x = dim(nds$log_B_post)[1],size = 1000)\n",
    "#     for(j in smpl){\n",
    "#         abline(nds$alpha_post[j],\n",
    "#                nds$beta_post[j],col='#62f06510')\n",
    "\n",
    "#     }\n",
    "#     abline(mean(nds$alpha_post),\n",
    "#                mean(nds$beta_post),col='#ee0000',lwd=2)\n",
    "\n",
    "    # GRADIENT\n",
    "    # More model uncertainty\n",
    "    n_brks <- 50\n",
    "    x_brks <- seq(-3,3,length.out = n_brks)\n",
    "    x_poly <- (x_brks[2]-x_brks[1])/2\n",
    "    x_mids <- x_brks[1:(length(x_brks)-1)]+x_poly\n",
    "    y_brks <- seq(-8,8,length.out = n_brks)\n",
    "    y_poly <- (y_brks[2]-y_brks[1])/2\n",
    "    y_mids <- y_brks[1:(length(y_brks)-1)]+y_poly\n",
    "    for(i in 1:length(x_mids)){\n",
    "        # Generate random samples at x_mids[i]\n",
    "        ssize <- 1600\n",
    "        distro <- NA\n",
    "        for(j in 1:ssize){\n",
    "            distro[j] <- nds$alpha_post[j]+nds$beta_post[j]*x_mids[i]\n",
    "        }\n",
    "        ht <- hist(distro,breaks = y_brks,plot=F)\n",
    "        colz <- rgb(red = 253,\n",
    "              green = 143,\n",
    "              blue = 32,\n",
    "              alpha=ht$density*(255*.7)/max(ht$density),\n",
    "              maxColorValue = 255)\n",
    "        bordz <- rgb(red = 253,\n",
    "              green = 143,\n",
    "              blue = 32,\n",
    "              alpha=ht$density*(255)/max(ht$density),\n",
    "              maxColorValue = 255)\n",
    "        # Polygons\n",
    "        for(k in 1:length(y_mids)){    \n",
    "            polygon(x = c(x_mids[i]+(x_poly*c(-1,1,1,-1))),\n",
    "                    y = c(y_mids[k]+(y_poly*c(-1,-1,1,1))),\n",
    "                   border=bordz[k],col=colz[k])\n",
    "#             points(x_mids[i],y_mids[k])\n",
    "        }\n",
    "    }\n",
    "#     points(x_mids,y_mids)\n",
    "    \n",
    "\n",
    "    # POST-PRED\n",
    "#     for(i in 1:nrow(bb_stable)){\n",
    "# #         pred <- quantile(nds$log_B_post[,i],probs = c(0.025,0.975))\n",
    "#         pred <- quantile(pred_node[,i],probs = c(0.025,0.975))\n",
    "#         lines(rep(log(W_r[i]/W_l[i]),2),pred,lwd=5,col='#9525ba')\n",
    "#     }\n",
    "\n",
    "    # DATA\n",
    "    points(log(bb_stable$n_reinf_right/bb_stable$n_reinf_left),\n",
    "           log(bb_stable$n_resp_right/bb_stable$n_resp_left),\n",
    "           pch=21,lwd=2,cex=1.75,bg='#ffffff')\n",
    "\n",
    "}\n",
    "\n",
    "options(repr.plot.width=16,repr.plot.height=8)\n",
    "par(mar=rep(6,4))\n",
    "layout(matrix(1:2,ncol=2))\n",
    "post_predictive(nds_gen,title='generative')\n",
    "post_predictive(nds_non_gen,title='non-generative')"
   ]
  },
  {
   "cell_type": "code",
   "execution_count": 58,
   "id": "dbd95e9e",
   "metadata": {},
   "outputs": [],
   "source": [
    "?polygon"
   ]
  },
  {
   "cell_type": "code",
   "execution_count": 56,
   "id": "29276896",
   "metadata": {},
   "outputs": [
    {
     "data": {
      "text/html": [
       "<style>\n",
       ".list-inline {list-style: none; margin:0; padding: 0}\n",
       ".list-inline>li {display: inline-block}\n",
       ".list-inline>li:not(:last-child)::after {content: \"\\00b7\"; padding: 0 .5ex}\n",
       "</style>\n",
       "<ol class=list-inline><li>'#FF000000'</li><li>'#FF000000'</li><li>'#FF0000FF'</li><li>'#FF000000'</li></ol>\n"
      ],
      "text/latex": [
       "\\begin{enumerate*}\n",
       "\\item '\\#FF000000'\n",
       "\\item '\\#FF000000'\n",
       "\\item '\\#FF0000FF'\n",
       "\\item '\\#FF000000'\n",
       "\\end{enumerate*}\n"
      ],
      "text/markdown": [
       "1. '#FF000000'\n",
       "2. '#FF000000'\n",
       "3. '#FF0000FF'\n",
       "4. '#FF000000'\n",
       "\n",
       "\n"
      ],
      "text/plain": [
       "[1] \"#FF000000\" \"#FF000000\" \"#FF0000FF\" \"#FF000000\""
      ]
     },
     "metadata": {},
     "output_type": "display_data"
    }
   ],
   "source": [
    "color"
   ]
  },
  {
   "cell_type": "code",
   "execution_count": 41,
   "id": "46350106",
   "metadata": {},
   "outputs": [
    {
     "data": {
      "text/html": [
       "<style>\n",
       ".list-inline {list-style: none; margin:0; padding: 0}\n",
       ".list-inline>li {display: inline-block}\n",
       ".list-inline>li:not(:last-child)::after {content: \"\\00b7\"; padding: 0 .5ex}\n",
       "</style>\n",
       "<ol class=list-inline><li>-2.25</li><li>-0.75</li><li>0.75</li><li>2.25</li></ol>\n"
      ],
      "text/latex": [
       "\\begin{enumerate*}\n",
       "\\item -2.25\n",
       "\\item -0.75\n",
       "\\item 0.75\n",
       "\\item 2.25\n",
       "\\end{enumerate*}\n"
      ],
      "text/markdown": [
       "1. -2.25\n",
       "2. -0.75\n",
       "3. 0.75\n",
       "4. 2.25\n",
       "\n",
       "\n"
      ],
      "text/plain": [
       "[1] -2.25 -0.75  0.75  2.25"
      ]
     },
     "metadata": {},
     "output_type": "display_data"
    },
    {
     "data": {
      "text/html": [
       "0.75"
      ],
      "text/latex": [
       "0.75"
      ],
      "text/markdown": [
       "0.75"
      ],
      "text/plain": [
       "[1] 0.75"
      ]
     },
     "metadata": {},
     "output_type": "display_data"
    },
    {
     "data": {
      "text/html": [
       "<style>\n",
       ".list-inline {list-style: none; margin:0; padding: 0}\n",
       ".list-inline>li {display: inline-block}\n",
       ".list-inline>li:not(:last-child)::after {content: \"\\00b7\"; padding: 0 .5ex}\n",
       "</style>\n",
       "<ol class=list-inline><li>1.5</li><li>3</li><li>3</li><li>1.5</li></ol>\n"
      ],
      "text/latex": [
       "\\begin{enumerate*}\n",
       "\\item 1.5\n",
       "\\item 3\n",
       "\\item 3\n",
       "\\item 1.5\n",
       "\\end{enumerate*}\n"
      ],
      "text/markdown": [
       "1. 1.5\n",
       "2. 3\n",
       "3. 3\n",
       "4. 1.5\n",
       "\n",
       "\n"
      ],
      "text/plain": [
       "[1] 1.5 3.0 3.0 1.5"
      ]
     },
     "metadata": {},
     "output_type": "display_data"
    },
    {
     "data": {
      "text/html": [
       "<style>\n",
       ".list-inline {list-style: none; margin:0; padding: 0}\n",
       ".list-inline>li {display: inline-block}\n",
       ".list-inline>li:not(:last-child)::after {content: \"\\00b7\"; padding: 0 .5ex}\n",
       "</style>\n",
       "<ol class=list-inline><li>-7.5</li><li>-2.5</li><li>2.5</li><li>7.5</li></ol>\n"
      ],
      "text/latex": [
       "\\begin{enumerate*}\n",
       "\\item -7.5\n",
       "\\item -2.5\n",
       "\\item 2.5\n",
       "\\item 7.5\n",
       "\\end{enumerate*}\n"
      ],
      "text/markdown": [
       "1. -7.5\n",
       "2. -2.5\n",
       "3. 2.5\n",
       "4. 7.5\n",
       "\n",
       "\n"
      ],
      "text/plain": [
       "[1] -7.5 -2.5  2.5  7.5"
      ]
     },
     "metadata": {},
     "output_type": "display_data"
    },
    {
     "data": {
      "text/html": [
       "2.5"
      ],
      "text/latex": [
       "2.5"
      ],
      "text/markdown": [
       "2.5"
      ],
      "text/plain": [
       "[1] 2.5"
      ]
     },
     "metadata": {},
     "output_type": "display_data"
    },
    {
     "data": {
      "text/html": [
       "<style>\n",
       ".list-inline {list-style: none; margin:0; padding: 0}\n",
       ".list-inline>li {display: inline-block}\n",
       ".list-inline>li:not(:last-child)::after {content: \"\\00b7\"; padding: 0 .5ex}\n",
       "</style>\n",
       "<ol class=list-inline><li>5</li><li>10</li><li>10</li><li>5</li></ol>\n"
      ],
      "text/latex": [
       "\\begin{enumerate*}\n",
       "\\item 5\n",
       "\\item 10\n",
       "\\item 10\n",
       "\\item 5\n",
       "\\end{enumerate*}\n"
      ],
      "text/markdown": [
       "1. 5\n",
       "2. 10\n",
       "3. 10\n",
       "4. 5\n",
       "\n",
       "\n"
      ],
      "text/plain": [
       "[1]  5 10 10  5"
      ]
     },
     "metadata": {},
     "output_type": "display_data"
    }
   ],
   "source": [
    "i <- length(x_mids)\n",
    "j <- length(y_mids)\n",
    "x_mids\n",
    "x_poly\n",
    "x_mids[i]+(x_poly*c(-1,1,1,-1))\n",
    "y_mids\n",
    "y_poly\n",
    "y_mids[j]+(y_poly*c(-1,1,1,-1))"
   ]
  },
  {
   "cell_type": "code",
   "execution_count": null,
   "id": "4f0e2288",
   "metadata": {},
   "outputs": [],
   "source": []
  },
  {
   "cell_type": "code",
   "execution_count": null,
   "id": "66921995",
   "metadata": {},
   "outputs": [],
   "source": [
    "  \n",
    "    x_sup <- seq(-3,3,length.out = 20)\n",
    "    for(i in length(x_sup)){\n",
    "        ssize <- 100\n",
    "        distro <- NA\n",
    "        for(j in 1:ssize){\n",
    "            distro[j] <- nds$alpha_post[j]+nds$beta_post[j]*x_sup[i]\n",
    "        }\n",
    "#         points(rep(x_sup,2),quantile(distro,probs=c(0.025,.975)))\n",
    "    }\n"
   ]
  },
  {
   "cell_type": "code",
   "execution_count": null,
   "id": "0eb3fd49",
   "metadata": {},
   "outputs": [],
   "source": [
    "quantile(distro,probs=c(0.025,.975))"
   ]
  },
  {
   "cell_type": "code",
   "execution_count": null,
   "id": "ab84ec8e",
   "metadata": {},
   "outputs": [],
   "source": [
    "# bayes_non_gen\n",
    "bayes_gen"
   ]
  },
  {
   "cell_type": "code",
   "execution_count": null,
   "id": "d578671c",
   "metadata": {},
   "outputs": [],
   "source": []
  },
  {
   "cell_type": "code",
   "execution_count": null,
   "id": "652218aa",
   "metadata": {},
   "outputs": [],
   "source": []
  },
  {
   "cell_type": "code",
   "execution_count": null,
   "id": "84bb9a38",
   "metadata": {},
   "outputs": [],
   "source": [
    "nds <- nds_gen\n",
    "names(nds)"
   ]
  },
  {
   "cell_type": "code",
   "execution_count": null,
   "id": "76d6b89d",
   "metadata": {},
   "outputs": [],
   "source": [
    "head(nds$log_B)"
   ]
  },
  {
   "cell_type": "code",
   "execution_count": null,
   "id": "e63926da",
   "metadata": {
    "scrolled": true
   },
   "outputs": [],
   "source": [
    "head(nds$log_W)"
   ]
  },
  {
   "cell_type": "code",
   "execution_count": null,
   "id": "0053df74",
   "metadata": {},
   "outputs": [],
   "source": [
    "mean_B <- apply(nds$log_B,FUN=mean,MARGIN=2)\n",
    "mean_W <- apply(nds$log_W,FUN=mean,MARGIN=2)\n",
    "plot(mean_W,mean_B,xlim=c(-3,3),ylim=c(-3,3));abline(0,1)"
   ]
  },
  {
   "cell_type": "code",
   "execution_count": null,
   "id": "ecc67292",
   "metadata": {
    "scrolled": false
   },
   "outputs": [],
   "source": [
    "col_prior <- '#ee770033'\n",
    "col_post <- '#0077ee88'\n",
    "\n",
    "options(repr.plot.width=12,repr.plot.height=12)\n",
    "layout(matrix(1:6,ncol=2,byrow=T))\n",
    "hist(nds_gen$alpha_post,xlim=c(-2,2),border=NA,col=col_post)\n",
    "hist(nds_gen$alpha_prior,xlim=c(-2,2),border=NA,col=col_prior,add=T,breaks=100)\n",
    "\n",
    "hist(nds_non_gen$alpha_post,xlim=c(-2,2),border=NA,col=col_post)\n",
    "hist(nds_non_gen$alpha_prior,xlim=c(-2,2),border=NA,col=col_prior,add=T,breaks=100)\n",
    "\n",
    "hist(nds_gen$beta_post,xlim=c(-2,2),border=NA,col=col_post)\n",
    "hist(nds_gen$beta_prior,xlim=c(-2,2),border=NA,col=col_prior,add=T,breaks=100)\n",
    "\n",
    "hist(nds_non_gen$beta_post,xlim=c(-2,2),border=NA,col=col_post)\n",
    "hist(nds_non_gen$beta_prior,xlim=c(-2,2),border=NA,col=col_prior,add=T,breaks=100)\n",
    "\n",
    "hist(nds_gen$sigma_post,xlim=c(0,10),border=NA,col=col_post)\n",
    "hist(nds_gen$sigma_prior,xlim=c(0,10),border=NA,col=col_prior,add=T,breaks=100)\n",
    "\n",
    "hist(nds_non_gen$sigma_post,xlim=c(0,10),border=NA,col=col_post)\n",
    "hist(nds_non_gen$sigma_prior,xlim=c(0,10),border=NA,col=col_prior,add=T,breaks=100)"
   ]
  },
  {
   "cell_type": "code",
   "execution_count": null,
   "id": "179a7517",
   "metadata": {},
   "outputs": [],
   "source": [
    "names(nds_gen)"
   ]
  },
  {
   "cell_type": "code",
   "execution_count": null,
   "id": "79679ff3",
   "metadata": {},
   "outputs": [],
   "source": [
    "plot(nds_gen$lambda_l_post,nds_gen$lambda_r_post,pch=16,col='#00000008')\n",
    "points(B_l,B_r,pch=16,col='#ee0000aa')"
   ]
  },
  {
   "cell_type": "code",
   "execution_count": null,
   "id": "13196f7b",
   "metadata": {},
   "outputs": [],
   "source": [
    "plot(nds_gen$alpha_post,nds_gen$beta_post,pch=16,col='#00000068')"
   ]
  },
  {
   "cell_type": "code",
   "execution_count": null,
   "id": "8f975e7f",
   "metadata": {},
   "outputs": [],
   "source": [
    "bivariate_plot <- function(x,y,x_bins=20,y_bins=20){\n",
    "\n",
    "#     x_bins <- 50\n",
    "#     y_bins <- 50\n",
    "    x_brks <- seq(min(x,na.rm=T)-.5,max(x,na.rm=T)+.5,length.out=x_bins)\n",
    "    y_brks <- seq(min(y,na.rm=T)-.5,max(y,na.rm=T)+.5,length.out=y_bins)\n",
    "    x_mids <- x_brks+(1/2)*(x_brks[2]-x_brks[1])\n",
    "    y_mids <- y_brks+(1/2)*(y_brks[2]-y_brks[1])\n",
    "    count_matrix <- array(dim=c(length(x_mids),length(y_mids)))\n",
    "    for(i in 1:length(x_mids)){\n",
    "        for(j in 1:length(y_mids)){\n",
    "            count_matrix[i,j] <- sum(x>=x_brks[i]&x<x_brks[i+1]&y>=y_brks[j]&y<y_brks[j+1])\n",
    "            }\n",
    "    }\n",
    "\n",
    "\n",
    "    x_range <- max(x_brks)-min(x_brks)\n",
    "    y_range <- max(y_brks)-min(y_brks)\n",
    "    plot(NULL,\n",
    "         xlim=c(min(x_brks),max(x_brks)+x_range*.5),\n",
    "         ylim=c(min(y_brks),max(y_brks)+y_range*.5))\n",
    "    x_margin <- apply(count_matrix,FUN=sum,MAR=1)\n",
    "    y_margin <- apply(count_matrix,FUN=sum,MAR=2)\n",
    "    lines(x_mids,max(y_brks)+x_margin*15,col='blue',lwd=2)\n",
    "    lines(y_margin+max(x_brks),y_mids,col='orange',lwd=2)\n",
    "    for(i in 1:length(x_mids)){\n",
    "        for(j in 1:length(y_mids)){\n",
    "            points(x_mids[i],y_mids[j],cex=count_matrix[i,j]*1,pch=22)\n",
    "        }\n",
    "    }\n",
    "\n",
    "}"
   ]
  },
  {
   "cell_type": "code",
   "execution_count": null,
   "id": "631cce39",
   "metadata": {
    "scrolled": false
   },
   "outputs": [],
   "source": [
    "options(repr.plot.width=15,repr.plot.height=43)\n",
    "layout(matrix(1:12,ncol=2,byrow=T))\n",
    "par(mar=rep(4,4))\n",
    "# bivariate_plot(stable$n_reinf_right,\n",
    "#                stable$n_resp_right)\n",
    "\n",
    "# bivariate_plot(stable$n_reinf_left,\n",
    "#                stable$n_resp_left)\n",
    "\n",
    "for(bb in unique(stable$bird)){\n",
    "    bb_dta <- subset(stable,bird==bb)\n",
    "    \n",
    "    bivariate_plot(bb_dta$n_reinf_right,\n",
    "                   bb_dta$n_resp_right)\n",
    "    mtext(bb,3)\n",
    "    bivariate_plot(bb_dta$n_reinf_left,\n",
    "                   bb_dta$n_resp_left)\n",
    "    mtext(bb,3)\n",
    "\n",
    "}"
   ]
  },
  {
   "cell_type": "code",
   "execution_count": null,
   "id": "a3e084b8",
   "metadata": {},
   "outputs": [],
   "source": [
    "pdf('bivariate_counts.pdf',width=6,height=18)\n",
    "layout(matrix(1:12,ncol=2,byrow=T))\n",
    "par(mar=rep(3,4))\n",
    "# bivariate_plot(stable$n_reinf_right,\n",
    "#                stable$n_resp_right)\n",
    "\n",
    "# bivariate_plot(stable$n_reinf_left,\n",
    "#                stable$n_resp_left)\n",
    "\n",
    "for(bb in unique(stable$bird)){\n",
    "    bb_dta <- subset(stable,bird==bb)\n",
    "    \n",
    "    bivariate_plot(bb_dta$n_reinf_right,\n",
    "                   bb_dta$n_resp_right)\n",
    "    mtext(bb,3)\n",
    "    bivariate_plot(bb_dta$n_reinf_left,\n",
    "                   bb_dta$n_resp_left)\n",
    "    mtext(bb,3)\n",
    "\n",
    "}\n",
    "dev.off()"
   ]
  },
  {
   "cell_type": "code",
   "execution_count": null,
   "id": "a083fab1",
   "metadata": {
    "scrolled": false
   },
   "outputs": [],
   "source": [
    "palette <- c(\"#72e5ef\",\"#f79302\",\"#fd2c3b\",\n",
    "             \"#b8e450\",\"#4cf185\",\"#9525ba\")\n",
    "colors <- NULL\n",
    "cntr <- 0\n",
    "for(bb in unique(stable$bird)){\n",
    "    cntr <- cntr+1\n",
    "    colors[which(stable$bird==bb)] <- paste(palette[cntr],'66',sep='')\n",
    "}\n",
    "stable$colors <- colors\n",
    "\n",
    "options(repr.plot.width=15,repr.plot.height=10)\n",
    "layout(matrix(1:6,ncol=3))\n",
    "par(mar=c(7,7,2,2),oma=c(2,2,4,0),cex.axis=1.2)\n",
    "for(bb in unique(stable$bird)){\n",
    "    bb_stable <- subset(stable,bird==bb)\n",
    "    plot(NULL,xlim=c(0,100),ylim=c(0,2000),axes=F,ann=F)\n",
    "    axis(1);axis(2)\n",
    "    points(bb_stable$n_reinf_right,\n",
    "           bb_stable$n_resp_right,\n",
    "           pch=21,bg=bb_stable$colors,cex=3.5)\n",
    "    \n",
    "    plot(NULL,xlim=c(0,100),ylim=c(0,2000),axes=F,ann=F)\n",
    "    axis(1);axis(2)\n",
    "    points(bb_stable$n_reinf_left,\n",
    "           bb_stable$n_resp_left,\n",
    "           pch=25,bg=bb_stable$colors,cex=3.5)\n",
    "    mtext(bb,3,cex=1.5)\n",
    "}\n",
    "mtext('recompensas en derecha respecto de izquierda',1,line=0,cex=1.75,outer=T)\n",
    "mtext('elecciones en derecha respecto de izquierda',2,line=0,cex=1.75,outer=T)\n",
    "mtext('sesiones estables',3,line=2,cex=2,outer=T)"
   ]
  }
 ],
 "metadata": {
  "kernelspec": {
   "display_name": "R",
   "language": "R",
   "name": "r"
  },
  "language_info": {
   "codemirror_mode": "r",
   "file_extension": ".r",
   "mimetype": "text/x-r-source",
   "name": "R",
   "pygments_lexer": "r",
   "version": "4.2.1"
  }
 },
 "nbformat": 4,
 "nbformat_minor": 5
}
