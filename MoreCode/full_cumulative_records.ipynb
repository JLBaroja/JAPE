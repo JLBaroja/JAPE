{
 "cells": [
  {
   "cell_type": "code",
   "execution_count": 1,
   "id": "agreed-subsection",
   "metadata": {},
   "outputs": [],
   "source": [
    "cum_record <- function(bin_seq,\n",
    "                       add=F,\n",
    "                       min_lim=NULL,\n",
    "                       max_lim=NULL,\n",
    "                       col='black',\n",
    "                       lwd=1){\n",
    "    # bin_seq is a sequence of 0s and 1s\n",
    "    cum_0 <- cumsum(bin_seq==0)\n",
    "    cum_1 <- cumsum(bin_seq==1)\n",
    "    if(!add){\n",
    "        if(is.null(max_lim)){max_lim <- max(max(cum_0),max(cum_1))}\n",
    "        if(is.null(min_lim)){min_lim <- 0}\n",
    "        plot(NULL,xlim=c(min_lim,max_lim),ylim=c(min_lim,max_lim))\n",
    "        abline(0,1,lty='dotted')\n",
    "    }\n",
    "    lines(cum_0,cum_1,col=col,lwd=lwd)\n",
    "    return(list(cum_0=cum_0,cum_1=cum_1))\n",
    "}"
   ]
  },
  {
   "cell_type": "code",
   "execution_count": 49,
   "id": "elder-trunk",
   "metadata": {},
   "outputs": [],
   "source": [
    "point_slope <- function(point,slope,...){\n",
    "    intercept <- -slope*point[1]+point[2]\n",
    "    abline(intercept,slope,...)\n",
    "}"
   ]
  },
  {
   "cell_type": "code",
   "execution_count": 54,
   "id": "referenced-composite",
   "metadata": {},
   "outputs": [
    {
     "data": {
      "text/html": [
       "<table>\n",
       "<caption>A data.frame: 1 × 13</caption>\n",
       "<thead>\n",
       "\t<tr><th></th><th scope=col>session</th><th scope=col>bird</th><th scope=col>VIleft1</th><th scope=col>VIleft2</th><th scope=col>VIright1</th><th scope=col>VIright2</th><th scope=col>CPright</th><th scope=col>CPleft</th><th scope=col>dynamic_env</th><th scope=col>conditions_left</th><th scope=col>conditions_right</th><th scope=col>env_1</th><th scope=col>env_2</th></tr>\n",
       "\t<tr><th></th><th scope=col>&lt;chr&gt;</th><th scope=col>&lt;chr&gt;</th><th scope=col>&lt;int&gt;</th><th scope=col>&lt;dbl&gt;</th><th scope=col>&lt;int&gt;</th><th scope=col>&lt;dbl&gt;</th><th scope=col>&lt;int&gt;</th><th scope=col>&lt;int&gt;</th><th scope=col>&lt;lgl&gt;</th><th scope=col>&lt;chr&gt;</th><th scope=col>&lt;chr&gt;</th><th scope=col>&lt;chr&gt;</th><th scope=col>&lt;chr&gt;</th></tr>\n",
       "</thead>\n",
       "<tbody>\n",
       "\t<tr><th scope=row>1</th><td>s01</td><td>p004</td><td>30</td><td>30</td><td>90</td><td>90</td><td>1018</td><td>1018</td><td>FALSE</td><td>30_30</td><td>90_90</td><td>30_90</td><td>30_90</td></tr>\n",
       "</tbody>\n",
       "</table>\n"
      ],
      "text/latex": [
       "A data.frame: 1 × 13\n",
       "\\begin{tabular}{r|lllllllllllll}\n",
       "  & session & bird & VIleft1 & VIleft2 & VIright1 & VIright2 & CPright & CPleft & dynamic\\_env & conditions\\_left & conditions\\_right & env\\_1 & env\\_2\\\\\n",
       "  & <chr> & <chr> & <int> & <dbl> & <int> & <dbl> & <int> & <int> & <lgl> & <chr> & <chr> & <chr> & <chr>\\\\\n",
       "\\hline\n",
       "\t1 & s01 & p004 & 30 & 30 & 90 & 90 & 1018 & 1018 & FALSE & 30\\_30 & 90\\_90 & 30\\_90 & 30\\_90\\\\\n",
       "\\end{tabular}\n"
      ],
      "text/markdown": [
       "\n",
       "A data.frame: 1 × 13\n",
       "\n",
       "| <!--/--> | session &lt;chr&gt; | bird &lt;chr&gt; | VIleft1 &lt;int&gt; | VIleft2 &lt;dbl&gt; | VIright1 &lt;int&gt; | VIright2 &lt;dbl&gt; | CPright &lt;int&gt; | CPleft &lt;int&gt; | dynamic_env &lt;lgl&gt; | conditions_left &lt;chr&gt; | conditions_right &lt;chr&gt; | env_1 &lt;chr&gt; | env_2 &lt;chr&gt; |\n",
       "|---|---|---|---|---|---|---|---|---|---|---|---|---|---|\n",
       "| 1 | s01 | p004 | 30 | 30 | 90 | 90 | 1018 | 1018 | FALSE | 30_30 | 90_90 | 30_90 | 30_90 |\n",
       "\n"
      ],
      "text/plain": [
       "  session bird VIleft1 VIleft2 VIright1 VIright2 CPright CPleft dynamic_env\n",
       "1 s01     p004 30      30      90       90       1018    1018   FALSE      \n",
       "  conditions_left conditions_right env_1 env_2\n",
       "1 30_30           90_90            30_90 30_90"
      ]
     },
     "metadata": {},
     "output_type": "display_data"
    },
    {
     "data": {
      "text/html": [
       "<table>\n",
       "<caption>A data.frame: 3 × 15</caption>\n",
       "<thead>\n",
       "\t<tr><th></th><th scope=col>lever</th><th scope=col>time</th><th scope=col>irt_local</th><th scope=col>irt_global</th><th scope=col>reinforced</th><th scope=col>session</th><th scope=col>bird</th><th scope=col>cum_resp_left</th><th scope=col>cum_resp_right</th><th scope=col>cum_reinf_left</th><th scope=col>cum_reinf_right</th><th scope=col>first_in_visit</th><th scope=col>last_in_visit</th><th scope=col>local_VI</th><th scope=col>alter_VI</th></tr>\n",
       "\t<tr><th></th><th scope=col>&lt;chr&gt;</th><th scope=col>&lt;dbl&gt;</th><th scope=col>&lt;dbl&gt;</th><th scope=col>&lt;dbl&gt;</th><th scope=col>&lt;lgl&gt;</th><th scope=col>&lt;chr&gt;</th><th scope=col>&lt;chr&gt;</th><th scope=col>&lt;int&gt;</th><th scope=col>&lt;int&gt;</th><th scope=col>&lt;int&gt;</th><th scope=col>&lt;int&gt;</th><th scope=col>&lt;lgl&gt;</th><th scope=col>&lt;lgl&gt;</th><th scope=col>&lt;dbl&gt;</th><th scope=col>&lt;dbl&gt;</th></tr>\n",
       "</thead>\n",
       "<tbody>\n",
       "\t<tr><th scope=row>1</th><td>right</td><td>2.29</td><td>0.00</td><td>0.00</td><td>FALSE</td><td>s01</td><td>p004</td><td>0</td><td>1</td><td>0</td><td>0</td><td> TRUE</td><td>FALSE</td><td>90</td><td>30</td></tr>\n",
       "\t<tr><th scope=row>2</th><td>right</td><td>2.67</td><td>0.38</td><td>0.38</td><td>FALSE</td><td>s01</td><td>p004</td><td>0</td><td>2</td><td>0</td><td>0</td><td>FALSE</td><td>FALSE</td><td>90</td><td>30</td></tr>\n",
       "\t<tr><th scope=row>3</th><td>right</td><td>2.98</td><td>0.31</td><td>0.31</td><td>FALSE</td><td>s01</td><td>p004</td><td>0</td><td>3</td><td>0</td><td>0</td><td>FALSE</td><td>FALSE</td><td>90</td><td>30</td></tr>\n",
       "</tbody>\n",
       "</table>\n"
      ],
      "text/latex": [
       "A data.frame: 3 × 15\n",
       "\\begin{tabular}{r|lllllllllllllll}\n",
       "  & lever & time & irt\\_local & irt\\_global & reinforced & session & bird & cum\\_resp\\_left & cum\\_resp\\_right & cum\\_reinf\\_left & cum\\_reinf\\_right & first\\_in\\_visit & last\\_in\\_visit & local\\_VI & alter\\_VI\\\\\n",
       "  & <chr> & <dbl> & <dbl> & <dbl> & <lgl> & <chr> & <chr> & <int> & <int> & <int> & <int> & <lgl> & <lgl> & <dbl> & <dbl>\\\\\n",
       "\\hline\n",
       "\t1 & right & 2.29 & 0.00 & 0.00 & FALSE & s01 & p004 & 0 & 1 & 0 & 0 &  TRUE & FALSE & 90 & 30\\\\\n",
       "\t2 & right & 2.67 & 0.38 & 0.38 & FALSE & s01 & p004 & 0 & 2 & 0 & 0 & FALSE & FALSE & 90 & 30\\\\\n",
       "\t3 & right & 2.98 & 0.31 & 0.31 & FALSE & s01 & p004 & 0 & 3 & 0 & 0 & FALSE & FALSE & 90 & 30\\\\\n",
       "\\end{tabular}\n"
      ],
      "text/markdown": [
       "\n",
       "A data.frame: 3 × 15\n",
       "\n",
       "| <!--/--> | lever &lt;chr&gt; | time &lt;dbl&gt; | irt_local &lt;dbl&gt; | irt_global &lt;dbl&gt; | reinforced &lt;lgl&gt; | session &lt;chr&gt; | bird &lt;chr&gt; | cum_resp_left &lt;int&gt; | cum_resp_right &lt;int&gt; | cum_reinf_left &lt;int&gt; | cum_reinf_right &lt;int&gt; | first_in_visit &lt;lgl&gt; | last_in_visit &lt;lgl&gt; | local_VI &lt;dbl&gt; | alter_VI &lt;dbl&gt; |\n",
       "|---|---|---|---|---|---|---|---|---|---|---|---|---|---|---|---|\n",
       "| 1 | right | 2.29 | 0.00 | 0.00 | FALSE | s01 | p004 | 0 | 1 | 0 | 0 |  TRUE | FALSE | 90 | 30 |\n",
       "| 2 | right | 2.67 | 0.38 | 0.38 | FALSE | s01 | p004 | 0 | 2 | 0 | 0 | FALSE | FALSE | 90 | 30 |\n",
       "| 3 | right | 2.98 | 0.31 | 0.31 | FALSE | s01 | p004 | 0 | 3 | 0 | 0 | FALSE | FALSE | 90 | 30 |\n",
       "\n"
      ],
      "text/plain": [
       "  lever time irt_local irt_global reinforced session bird cum_resp_left\n",
       "1 right 2.29 0.00      0.00       FALSE      s01     p004 0            \n",
       "2 right 2.67 0.38      0.38       FALSE      s01     p004 0            \n",
       "3 right 2.98 0.31      0.31       FALSE      s01     p004 0            \n",
       "  cum_resp_right cum_reinf_left cum_reinf_right first_in_visit last_in_visit\n",
       "1 1              0              0                TRUE          FALSE        \n",
       "2 2              0              0               FALSE          FALSE        \n",
       "3 3              0              0               FALSE          FALSE        \n",
       "  local_VI alter_VI\n",
       "1 90       30      \n",
       "2 90       30      \n",
       "3 90       30      "
      ]
     },
     "metadata": {},
     "output_type": "display_data"
    },
    {
     "data": {
      "image/png": "[encoded data removed]",
      "text/plain": [
       "plot without title"
      ]
     },
     "metadata": {
      "image/png": {
       "height": 420,
       "width": 420
      }
     },
     "output_type": "display_data"
    }
   ],
   "source": [
    "session_summary <- read.csv('~/JAPE/ConcurrentData/session_summary.csv')\n",
    "birds <- unique(session_summary$bird)\n",
    "sessions <- unique(session_summary$session)\n",
    "bb <- birds[1]\n",
    "ss <- sessions[1]\n",
    "ss_info <- subset(session_summary,bird==bb&session==ss)\n",
    "ss_info\n",
    "slope1 <- ss_info$VIleft1/ss_info$VIright1\n",
    "slope2 <- ss_info$VIleft2/ss_info$VIright2\n",
    "col <- c('#0000ee44','#ee000044')[(1+as.numeric(ss_info$dynamic_env))]\n",
    "    dts_bird <- read.csv(paste('~/JAPE/ConcurrentData/ResponseAnalysis/responses_',bb,'.csv',sep=''))\n",
    "        dts_session <- subset(dts_bird,session==ss)\n",
    "        choices <- as.numeric(dts_session$lever=='right')\n",
    "        rewards <- as.numeric(dts_session$reinforced)\n",
    "        head(dts_session,3)\n",
    "        cum_record(choices,lwd=2)->x\n",
    "        cp_time <- ss_info$CPright\n",
    "        cp_pos <- which(dts_session$time>cp_time)[1]\n",
    "        cp_point <- c(x$cum_1[cp_pos],x$cum_0[cp_pos])\n",
    "        clip(0,cp_point[1],0,cp_point[2])\n",
    "        point_slope(cp_point,slope1,col=col,lwd=2)\n",
    "        clip(cp_point[1],max(x$cum_1),cp_point[2],max(x$cum_0))\n",
    "        point_slope(cp_point,slope1,col=col,lwd=3)\n",
    "        clip(0,max(x$cum_1),0,max(x$cum_0))\n",
    "        points(x$cum_1[cp_pos],x$cum_0[cp_pos],cex=2,pch=21,bg='#ffffff88',col=col,lwd=3)\n",
    "        mtext(paste(bb,', ',ss,sep=''))"
   ]
  },
  {
   "cell_type": "code",
   "execution_count": 73,
   "id": "pressed-literacy",
   "metadata": {},
   "outputs": [
    {
     "data": {
      "text/html": [
       "<strong>png:</strong> 2"
      ],
      "text/latex": [
       "\\textbf{png:} 2"
      ],
      "text/markdown": [
       "**png:** 2"
      ],
      "text/plain": [
       "png \n",
       "  2 "
      ]
     },
     "metadata": {},
     "output_type": "display_data"
    }
   ],
   "source": [
    "pdf(file='~/JAPE/Reports/cum_records.pdf',width=11,height=8)\n",
    "layout(matrix(1:12,ncol=4,nrow=3,byrow=T))\n",
    "for(bb in birds){\n",
    "    dts_bird <- read.csv(paste('~/JAPE/ConcurrentData/ResponseAnalysis/responses_',bb,'.csv',sep=''))\n",
    "    for(ss in sessions[1:179]){\n",
    "        # Session Info\n",
    "        ss_info <- subset(session_summary,bird==bb&session==ss)\n",
    "        slope1 <- ss_info$VIright1/ss_info$VIleft1\n",
    "        slope2 <- ss_info$VIright2/ss_info$VIleft2\n",
    "        col <- c('#0000ee44','#ee000044')[(1+as.numeric(ss_info$dynamic_env))]\n",
    "        # Session Data\n",
    "        dts_session <- subset(dts_bird,session==ss)\n",
    "        choices <- as.numeric(dts_session$lever=='right')\n",
    "        rewards <- as.numeric(dts_session$reinforced)\n",
    "        # Plotting\n",
    "        cum_record(choices,lwd=2,min_lim = -100)->x\n",
    "        cp_time <- ss_info$CPright\n",
    "        cp_pos <- which(dts_session$time>cp_time)[1]\n",
    "        cp_point <- c(x$cum_1[cp_pos],x$cum_0[cp_pos])\n",
    "        clip(-100,cp_point[1],-100,cp_point[2])\n",
    "        point_slope(cp_point,slope1,col=col,lwd=2)\n",
    "        clip(cp_point[1],max(max(x$cum_1),max(x$cum_0)),cp_point[2],max(max(x$cum_1),max(x$cum_0)))\n",
    "        point_slope(cp_point,slope2,col=col,lwd=2)\n",
    "        clip(0,max(x$cum_1),0,max(x$cum_0))\n",
    "        points(x$cum_1[cp_pos],x$cum_0[cp_pos],cex=2,pch=21,bg='#ffffff88',col=col,lwd=3)\n",
    "        mtext(paste(bb,', ',ss,sep=''))\n",
    "    }\n",
    "}\n",
    "dev.off()"
   ]
  },
  {
   "cell_type": "code",
   "execution_count": 71,
   "id": "corporate-tourist",
   "metadata": {},
   "outputs": [
    {
     "data": {
      "text/html": [
       "<style>\n",
       ".list-inline {list-style: none; margin:0; padding: 0}\n",
       ".list-inline>li {display: inline-block}\n",
       ".list-inline>li:not(:last-child)::after {content: \"\\00b7\"; padding: 0 .5ex}\n",
       "</style>\n",
       "<ol class=list-inline><li>'s180'</li><li>'s180'</li><li>'s180'</li><li>'s180'</li><li>'s180'</li><li>'s180'</li></ol>\n"
      ],
      "text/latex": [
       "\\begin{enumerate*}\n",
       "\\item 's180'\n",
       "\\item 's180'\n",
       "\\item 's180'\n",
       "\\item 's180'\n",
       "\\item 's180'\n",
       "\\item 's180'\n",
       "\\end{enumerate*}\n"
      ],
      "text/markdown": [
       "1. 's180'\n",
       "2. 's180'\n",
       "3. 's180'\n",
       "4. 's180'\n",
       "5. 's180'\n",
       "6. 's180'\n",
       "\n",
       "\n"
      ],
      "text/plain": [
       "[1] \"s180\" \"s180\" \"s180\" \"s180\" \"s180\" \"s180\""
      ]
     },
     "metadata": {},
     "output_type": "display_data"
    }
   ],
   "source": [
    "session_summary$session[which(session_summary$VIleft2=='Inf')]\n"
   ]
  },
  {
   "cell_type": "code",
   "execution_count": 67,
   "id": "veterinary-climate",
   "metadata": {},
   "outputs": [
    {
     "data": {
      "text/html": [
       "TRUE"
      ],
      "text/latex": [
       "TRUE"
      ],
      "text/markdown": [
       "TRUE"
      ],
      "text/plain": [
       "[1] TRUE"
      ]
     },
     "metadata": {},
     "output_type": "display_data"
    }
   ],
   "source": [
    "ss_info$VIleft2=='Inf'"
   ]
  },
  {
   "cell_type": "code",
   "execution_count": 35,
   "id": "residential-official",
   "metadata": {
    "scrolled": false
   },
   "outputs": [
    {
     "data": {
      "text/html": [
       "<table>\n",
       "<caption>A data.frame: 10 × 15</caption>\n",
       "<thead>\n",
       "\t<tr><th></th><th scope=col>lever</th><th scope=col>time</th><th scope=col>irt_local</th><th scope=col>irt_global</th><th scope=col>reinforced</th><th scope=col>session</th><th scope=col>bird</th><th scope=col>cum_resp_left</th><th scope=col>cum_resp_right</th><th scope=col>cum_reinf_left</th><th scope=col>cum_reinf_right</th><th scope=col>first_in_visit</th><th scope=col>last_in_visit</th><th scope=col>local_VI</th><th scope=col>alter_VI</th></tr>\n",
       "\t<tr><th></th><th scope=col>&lt;chr&gt;</th><th scope=col>&lt;dbl&gt;</th><th scope=col>&lt;dbl&gt;</th><th scope=col>&lt;dbl&gt;</th><th scope=col>&lt;lgl&gt;</th><th scope=col>&lt;chr&gt;</th><th scope=col>&lt;chr&gt;</th><th scope=col>&lt;int&gt;</th><th scope=col>&lt;int&gt;</th><th scope=col>&lt;int&gt;</th><th scope=col>&lt;int&gt;</th><th scope=col>&lt;lgl&gt;</th><th scope=col>&lt;lgl&gt;</th><th scope=col>&lt;dbl&gt;</th><th scope=col>&lt;dbl&gt;</th></tr>\n",
       "</thead>\n",
       "<tbody>\n",
       "\t<tr><th scope=row>2221</th><td>left </td><td>5376.78</td><td> 0.86</td><td>0.86</td><td>FALSE</td><td>s01</td><td>p736</td><td>1944</td><td>277</td><td>121</td><td>27</td><td>FALSE</td><td>FALSE</td><td>30</td><td>90</td></tr>\n",
       "\t<tr><th scope=row>2222</th><td>left </td><td>5377.20</td><td> 0.42</td><td>0.42</td><td>FALSE</td><td>s01</td><td>p736</td><td>1945</td><td>277</td><td>121</td><td>27</td><td>FALSE</td><td>FALSE</td><td>30</td><td>90</td></tr>\n",
       "\t<tr><th scope=row>2223</th><td>left </td><td>5378.16</td><td> 0.96</td><td>0.96</td><td> TRUE</td><td>s01</td><td>p736</td><td>1946</td><td>277</td><td>122</td><td>27</td><td>FALSE</td><td>FALSE</td><td>30</td><td>90</td></tr>\n",
       "\t<tr><th scope=row>2224</th><td>left </td><td>5386.27</td><td> 8.11</td><td>8.11</td><td>FALSE</td><td>s01</td><td>p736</td><td>1947</td><td>277</td><td>122</td><td>27</td><td>FALSE</td><td>FALSE</td><td>30</td><td>90</td></tr>\n",
       "\t<tr><th scope=row>2225</th><td>left </td><td>5386.63</td><td> 0.36</td><td>0.36</td><td>FALSE</td><td>s01</td><td>p736</td><td>1948</td><td>277</td><td>122</td><td>27</td><td>FALSE</td><td>FALSE</td><td>30</td><td>90</td></tr>\n",
       "\t<tr><th scope=row>2226</th><td>left </td><td>5389.31</td><td> 2.68</td><td>2.68</td><td>FALSE</td><td>s01</td><td>p736</td><td>1949</td><td>277</td><td>122</td><td>27</td><td>FALSE</td><td>FALSE</td><td>30</td><td>90</td></tr>\n",
       "\t<tr><th scope=row>2227</th><td>left </td><td>5391.07</td><td> 1.76</td><td>1.76</td><td>FALSE</td><td>s01</td><td>p736</td><td>1950</td><td>277</td><td>122</td><td>27</td><td>FALSE</td><td> TRUE</td><td>30</td><td>90</td></tr>\n",
       "\t<tr><th scope=row>2228</th><td>right</td><td>5392.70</td><td>22.83</td><td>1.63</td><td>FALSE</td><td>s01</td><td>p736</td><td>1950</td><td>278</td><td>122</td><td>27</td><td> TRUE</td><td> TRUE</td><td>90</td><td>30</td></tr>\n",
       "\t<tr><th scope=row>2229</th><td>left </td><td>5394.14</td><td> 3.07</td><td>1.44</td><td>FALSE</td><td>s01</td><td>p736</td><td>1951</td><td>278</td><td>122</td><td>27</td><td> TRUE</td><td>FALSE</td><td>30</td><td>90</td></tr>\n",
       "\t<tr><th scope=row>2230</th><td>left </td><td>5396.45</td><td> 2.31</td><td>2.31</td><td>FALSE</td><td>s01</td><td>p736</td><td>1952</td><td>278</td><td>122</td><td>27</td><td>FALSE</td><td> TRUE</td><td>30</td><td>90</td></tr>\n",
       "</tbody>\n",
       "</table>\n"
      ],
      "text/latex": [
       "A data.frame: 10 × 15\n",
       "\\begin{tabular}{r|lllllllllllllll}\n",
       "  & lever & time & irt\\_local & irt\\_global & reinforced & session & bird & cum\\_resp\\_left & cum\\_resp\\_right & cum\\_reinf\\_left & cum\\_reinf\\_right & first\\_in\\_visit & last\\_in\\_visit & local\\_VI & alter\\_VI\\\\\n",
       "  & <chr> & <dbl> & <dbl> & <dbl> & <lgl> & <chr> & <chr> & <int> & <int> & <int> & <int> & <lgl> & <lgl> & <dbl> & <dbl>\\\\\n",
       "\\hline\n",
       "\t2221 & left  & 5376.78 &  0.86 & 0.86 & FALSE & s01 & p736 & 1944 & 277 & 121 & 27 & FALSE & FALSE & 30 & 90\\\\\n",
       "\t2222 & left  & 5377.20 &  0.42 & 0.42 & FALSE & s01 & p736 & 1945 & 277 & 121 & 27 & FALSE & FALSE & 30 & 90\\\\\n",
       "\t2223 & left  & 5378.16 &  0.96 & 0.96 &  TRUE & s01 & p736 & 1946 & 277 & 122 & 27 & FALSE & FALSE & 30 & 90\\\\\n",
       "\t2224 & left  & 5386.27 &  8.11 & 8.11 & FALSE & s01 & p736 & 1947 & 277 & 122 & 27 & FALSE & FALSE & 30 & 90\\\\\n",
       "\t2225 & left  & 5386.63 &  0.36 & 0.36 & FALSE & s01 & p736 & 1948 & 277 & 122 & 27 & FALSE & FALSE & 30 & 90\\\\\n",
       "\t2226 & left  & 5389.31 &  2.68 & 2.68 & FALSE & s01 & p736 & 1949 & 277 & 122 & 27 & FALSE & FALSE & 30 & 90\\\\\n",
       "\t2227 & left  & 5391.07 &  1.76 & 1.76 & FALSE & s01 & p736 & 1950 & 277 & 122 & 27 & FALSE &  TRUE & 30 & 90\\\\\n",
       "\t2228 & right & 5392.70 & 22.83 & 1.63 & FALSE & s01 & p736 & 1950 & 278 & 122 & 27 &  TRUE &  TRUE & 90 & 30\\\\\n",
       "\t2229 & left  & 5394.14 &  3.07 & 1.44 & FALSE & s01 & p736 & 1951 & 278 & 122 & 27 &  TRUE & FALSE & 30 & 90\\\\\n",
       "\t2230 & left  & 5396.45 &  2.31 & 2.31 & FALSE & s01 & p736 & 1952 & 278 & 122 & 27 & FALSE &  TRUE & 30 & 90\\\\\n",
       "\\end{tabular}\n"
      ],
      "text/markdown": [
       "\n",
       "A data.frame: 10 × 15\n",
       "\n",
       "| <!--/--> | lever &lt;chr&gt; | time &lt;dbl&gt; | irt_local &lt;dbl&gt; | irt_global &lt;dbl&gt; | reinforced &lt;lgl&gt; | session &lt;chr&gt; | bird &lt;chr&gt; | cum_resp_left &lt;int&gt; | cum_resp_right &lt;int&gt; | cum_reinf_left &lt;int&gt; | cum_reinf_right &lt;int&gt; | first_in_visit &lt;lgl&gt; | last_in_visit &lt;lgl&gt; | local_VI &lt;dbl&gt; | alter_VI &lt;dbl&gt; |\n",
       "|---|---|---|---|---|---|---|---|---|---|---|---|---|---|---|---|\n",
       "| 2221 | left  | 5376.78 |  0.86 | 0.86 | FALSE | s01 | p736 | 1944 | 277 | 121 | 27 | FALSE | FALSE | 30 | 90 |\n",
       "| 2222 | left  | 5377.20 |  0.42 | 0.42 | FALSE | s01 | p736 | 1945 | 277 | 121 | 27 | FALSE | FALSE | 30 | 90 |\n",
       "| 2223 | left  | 5378.16 |  0.96 | 0.96 |  TRUE | s01 | p736 | 1946 | 277 | 122 | 27 | FALSE | FALSE | 30 | 90 |\n",
       "| 2224 | left  | 5386.27 |  8.11 | 8.11 | FALSE | s01 | p736 | 1947 | 277 | 122 | 27 | FALSE | FALSE | 30 | 90 |\n",
       "| 2225 | left  | 5386.63 |  0.36 | 0.36 | FALSE | s01 | p736 | 1948 | 277 | 122 | 27 | FALSE | FALSE | 30 | 90 |\n",
       "| 2226 | left  | 5389.31 |  2.68 | 2.68 | FALSE | s01 | p736 | 1949 | 277 | 122 | 27 | FALSE | FALSE | 30 | 90 |\n",
       "| 2227 | left  | 5391.07 |  1.76 | 1.76 | FALSE | s01 | p736 | 1950 | 277 | 122 | 27 | FALSE |  TRUE | 30 | 90 |\n",
       "| 2228 | right | 5392.70 | 22.83 | 1.63 | FALSE | s01 | p736 | 1950 | 278 | 122 | 27 |  TRUE |  TRUE | 90 | 30 |\n",
       "| 2229 | left  | 5394.14 |  3.07 | 1.44 | FALSE | s01 | p736 | 1951 | 278 | 122 | 27 |  TRUE | FALSE | 30 | 90 |\n",
       "| 2230 | left  | 5396.45 |  2.31 | 2.31 | FALSE | s01 | p736 | 1952 | 278 | 122 | 27 | FALSE |  TRUE | 30 | 90 |\n",
       "\n"
      ],
      "text/plain": [
       "     lever time    irt_local irt_global reinforced session bird cum_resp_left\n",
       "2221 left  5376.78  0.86     0.86       FALSE      s01     p736 1944         \n",
       "2222 left  5377.20  0.42     0.42       FALSE      s01     p736 1945         \n",
       "2223 left  5378.16  0.96     0.96        TRUE      s01     p736 1946         \n",
       "2224 left  5386.27  8.11     8.11       FALSE      s01     p736 1947         \n",
       "2225 left  5386.63  0.36     0.36       FALSE      s01     p736 1948         \n",
       "2226 left  5389.31  2.68     2.68       FALSE      s01     p736 1949         \n",
       "2227 left  5391.07  1.76     1.76       FALSE      s01     p736 1950         \n",
       "2228 right 5392.70 22.83     1.63       FALSE      s01     p736 1950         \n",
       "2229 left  5394.14  3.07     1.44       FALSE      s01     p736 1951         \n",
       "2230 left  5396.45  2.31     2.31       FALSE      s01     p736 1952         \n",
       "     cum_resp_right cum_reinf_left cum_reinf_right first_in_visit last_in_visit\n",
       "2221 277            121            27              FALSE          FALSE        \n",
       "2222 277            121            27              FALSE          FALSE        \n",
       "2223 277            122            27              FALSE          FALSE        \n",
       "2224 277            122            27              FALSE          FALSE        \n",
       "2225 277            122            27              FALSE          FALSE        \n",
       "2226 277            122            27              FALSE          FALSE        \n",
       "2227 277            122            27              FALSE           TRUE        \n",
       "2228 278            122            27               TRUE           TRUE        \n",
       "2229 278            122            27               TRUE          FALSE        \n",
       "2230 278            122            27              FALSE           TRUE        \n",
       "     local_VI alter_VI\n",
       "2221 30       90      \n",
       "2222 30       90      \n",
       "2223 30       90      \n",
       "2224 30       90      \n",
       "2225 30       90      \n",
       "2226 30       90      \n",
       "2227 30       90      \n",
       "2228 90       30      \n",
       "2229 30       90      \n",
       "2230 30       90      "
      ]
     },
     "metadata": {},
     "output_type": "display_data"
    }
   ],
   "source": [
    "tail(dts_session,10)"
   ]
  },
  {
   "cell_type": "code",
   "execution_count": 33,
   "id": "affiliated-baseline",
   "metadata": {},
   "outputs": [
    {
     "data": {
      "image/png": "[encoded data removed]",
      "text/plain": [
       "plot without title"
      ]
     },
     "metadata": {
      "image/png": {
       "height": 420,
       "width": 420
      }
     },
     "output_type": "display_data"
    }
   ],
   "source": [
    "plot(cumsum(choices))"
   ]
  }
 ],
 "metadata": {
  "kernelspec": {
   "display_name": "R",
   "language": "R",
   "name": "ir"
  },
  "language_info": {
   "codemirror_mode": "r",
   "file_extension": ".r",
   "mimetype": "text/x-r-source",
   "name": "R",
   "pygments_lexer": "r",
   "version": "4.0.3"
  }
 },
 "nbformat": 4,
 "nbformat_minor": 5
}
